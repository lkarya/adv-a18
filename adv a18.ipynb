{
 "cells": [
  {
   "cell_type": "code",
   "execution_count": null,
   "id": "ee86b651",
   "metadata": {},
   "outputs": [],
   "source": [
    "# Describe the differences between text and binary files in a single paragraph.\n",
    "\n",
    "In text file, text, character, numbers are stored one character per byte i.e. 32667 occupies 5 bytes even though it occupies 2 bytes in memory. \n",
    "In binary file data is stored in binary format and each data would occupy the same number of bytes on disks as it occupies in memory."
   ]
  },
  {
   "cell_type": "code",
   "execution_count": null,
   "id": "e1f3341c",
   "metadata": {},
   "outputs": [],
   "source": [
    "# What are some of the issues with using binary operations to read and write a Python integer directly to disc?\n",
    "\n",
    "Alright, lets get this out of the way! The basics are pretty standard: \n",
    "\n",
    "There are 8 bits in a byte\n",
    "Bits either consist of a 0 or a 1\n",
    "A byte can be interpreted in different ways, like binary octal or hexadecimal"
   ]
  },
  {
   "cell_type": "code",
   "execution_count": null,
   "id": "8891f92c",
   "metadata": {},
   "outputs": [],
   "source": [
    "# Does Python have the trailing newline while reading a line of text? Does Python append a newline when you write a line of text?\n",
    "\n",
    "Python readline() is a file method that helps to read one complete line from the given file. It has a trailing newline (“\\n”) at the end of the string returned."
   ]
  },
  {
   "cell_type": "code",
   "execution_count": null,
   "id": "c9306c0d",
   "metadata": {},
   "outputs": [],
   "source": [
    "# When do you think you will use the struct package the most?\n",
    "\n",
    "struct.pack()\n",
    "Syntax: \n",
    "struct.pack(format, v1, v2, ...)\n",
    "Return a string containing the values v1, v2, … , that are packed according to the given format (Format strings are the mechanism used to specify the expected layout when packing and unpacking data).The values followed by the format must be as per the format only, else struct.error is raised.\n",
    "\n"
   ]
  },
  {
   "cell_type": "code",
   "execution_count": null,
   "id": "5fb76e94",
   "metadata": {},
   "outputs": [],
   "source": [
    "# When will it be best to use the shelve package?\n",
    "\n",
    "The shelve module in Python's standard library is a simple yet effective tool for persistent data storage when using a relational database solution is not required. The shelf object defined in this module is dictionary-like object which is persistently stored in a disk file."
   ]
  }
 ],
 "metadata": {
  "kernelspec": {
   "display_name": "Python 3 (ipykernel)",
   "language": "python",
   "name": "python3"
  },
  "language_info": {
   "codemirror_mode": {
    "name": "ipython",
    "version": 3
   },
   "file_extension": ".py",
   "mimetype": "text/x-python",
   "name": "python",
   "nbconvert_exporter": "python",
   "pygments_lexer": "ipython3",
   "version": "3.9.7"
  }
 },
 "nbformat": 4,
 "nbformat_minor": 5
}
